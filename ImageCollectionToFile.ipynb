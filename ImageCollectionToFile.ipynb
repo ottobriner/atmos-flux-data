{
 "cells": [
  {
   "cell_type": "code",
   "execution_count": 1,
   "metadata": {},
   "outputs": [],
   "source": [
    "import os\n",
    "from datetime import datetime\n",
    "import numpy as np\n",
    "import pandas as pd\n",
    "import geopandas as gpd\n",
    "from matplotlib import pyplot as plt\n",
    "from cycler import cycler\n",
    "import geoplot as gplt\n",
    "import geoplot.crs as gcrs\n",
    "\n",
    "import ee\n",
    "import rasterio\n",
    "from rasterio.plot import show as showRasterio\n",
    "from EarthEngineToGeoTIFF import getSentinalS2SRImage, getPlanetSkySat, getNAIPImage\n",
    "\n",
    "# ee.Authenticate() # Trigger the authentication flow.\n",
    "\n",
    "ee.Initialize() # Initialize the library."
   ]
  },
  {
   "cell_type": "code",
   "execution_count": 2,
   "metadata": {},
   "outputs": [],
   "source": [
    "tower_loc = [41.701827, -87.996285]\n",
    "r_earth = 6378137.0 # approx radius of earth in m\n",
    "meters_per_lon = (np.pi/180) * r_earth * np.cos(tower_loc[0]*np.pi/180)"
   ]
  },
  {
   "cell_type": "code",
   "execution_count": 3,
   "metadata": {},
   "outputs": [
    {
     "name": "stdout",
     "output_type": "stream",
     "text": [
      "Downloading NAIP satellite images ... \n",
      "Creating 3-band GeoTIFF image ... \n"
     ]
    }
   ],
   "source": [
    "lat = tower_loc[0]\n",
    "lon = tower_loc[1]\n",
    "sze = 0.01 # size of image in degrees\n",
    "filename = f'ATMOS_NAIP_{sze}.tif'\n",
    "\n",
    "dateMin = '2019-01-01'\n",
    "dateMax = '2020-12-31'\n",
    "vmin = 0\n",
    "vmax = 3500\n",
    "\n",
    "_ = getNAIPImage(lon, lat, sze, filename)"
   ]
  },
  {
   "cell_type": "code",
   "execution_count": 6,
   "metadata": {},
   "outputs": [
    {
     "name": "stdout",
     "output_type": "stream",
     "text": [
      "Downloading NAIP satellite images ... \n"
     ]
    }
   ],
   "source": [
    "# define the area of interest, using the Earth Engines geometry object\n",
    "coords = [\n",
    "     [lon - sze/2., lat - sze/2.],\n",
    "     [lon + sze/2., lat - sze/2.],\n",
    "     [lon + sze/2., lat + sze/2.],\n",
    "     [lon - sze/2., lat + sze/2.],\n",
    "     [lon - sze/2., lat - sze/2.]\n",
    "]\n",
    "aoi = ee.Geometry.Polygon(coords)"
   ]
  },
  {
   "cell_type": "code",
   "execution_count": 7,
   "metadata": {},
   "outputs": [
    {
     "data": {
      "text/plain": [
       "<ee.image.Image at 0x7fe1a68f3190>"
      ]
     },
     "execution_count": 7,
     "metadata": {},
     "output_type": "execute_result"
    }
   ],
   "source": [
    "db = ee.Image(ee.ImageCollection('USDA/NAIP/DOQQ')\n",
    "             .filterBounds(aoi)\n",
    "             .filterDate(ee.Date(dateMin), ee.Date(dateMax))\n",
    "              .first())\n",
    "db"
   ]
  },
  {
   "cell_type": "code",
   "execution_count": 16,
   "metadata": {},
   "outputs": [
    {
     "name": "stdout",
     "output_type": "stream",
     "text": [
      "Downloading Sentinel S2 Surface Reflectance satellite images ... \n"
     ]
    }
   ],
   "source": [
    "# # get the image using Google's Earth Engine\n",
    "# db = ee.Image(ee.ImageCollection('SKYSAT/GEN-A/PUBLIC/ORTHO/RGB')\\\n",
    "#                    .filterBounds(aoi)\\\n",
    "#                    .filterDate(ee.Date(dateMin), ee.Date(dateMax))\\\n",
    "# #                       .sort('CLOUDY_PIXEL_PERCENTAGE')\\\n",
    "#                    .first())\n",
    "\n",
    "# db = ee.Image(ee.ImageCollection('SKYSAT/GEN-A/PUBLIC/ORTHO/RGB'))\n",
    "db = ee.Image(ee.ImageCollection(\"SKYSAT/GEN-A/PUBLIC/ORTHO/RGB\"))\n"
   ]
  },
  {
   "cell_type": "code",
   "execution_count": 79,
   "metadata": {},
   "outputs": [
    {
     "data": {
      "text/plain": [
       "<ee.computedobject.ComputedObject at 0x7ff75a113e50>"
      ]
     },
     "execution_count": 79,
     "metadata": {},
     "output_type": "execute_result"
    }
   ],
   "source": [
    "db = ee.Image(ee.ImageCollection('COPERNICUS/S2_SR').filterBounds(aoi).filterDate(ee.Date(dateMin), ee.Date(dateMax)).first())\n",
    "ee.Image.bandNames(db).get(0)"
   ]
  },
  {
   "cell_type": "code",
   "execution_count": 54,
   "metadata": {},
   "outputs": [
    {
     "name": "stdout",
     "output_type": "stream",
     "text": [
      "ee.List({\n",
      "  \"functionInvocationValue\": {\n",
      "    \"functionName\": \"Image.bandNames\",\n",
      "    \"arguments\": {\n",
      "      \"image\": {\n",
      "        \"functionInvocationValue\": {\n",
      "          \"functionName\": \"Collection.first\",\n",
      "          \"arguments\": {\n",
      "            \"collection\": {\n",
      "              \"functionInvocationValue\": {\n",
      "                \"functionName\": \"Collection.filter\",\n",
      "                \"arguments\": {\n",
      "                  \"collection\": {\n",
      "                    \"functionInvocationValue\": {\n",
      "                      \"functionName\": \"ImageCollection.load\",\n",
      "                      \"arguments\": {\n",
      "                        \"id\": {\n",
      "                          \"constantValue\": \"SKYSAT/GEN-A/PUBLIC/ORTHO/RGB\"\n",
      "                        }\n",
      "                      }\n",
      "                    }\n",
      "                  },\n",
      "                  \"filter\": {\n",
      "                    \"functionInvocationValue\": {\n",
      "                      \"functionName\": \"Filter.intersects\",\n",
      "                      \"arguments\": {\n",
      "                        \"leftField\": {\n",
      "                          \"constantValue\": \".all\"\n",
      "                        },\n",
      "                        \"rightValue\": {\n",
      "                          \"functionInvocationValue\": {\n",
      "                            \"functionName\": \"Feature\",\n",
      "                            \"arguments\": {\n",
      "                              \"geometry\": {\n",
      "                                \"functionInvocationValue\": {\n",
      "                                  \"functionName\": \"GeometryConstructors.Polygon\",\n",
      "                                  \"arguments\": {\n",
      "                                    \"coordinates\": {\n",
      "                                      \"constantValue\": [\n",
      "                                        [\n",
      "                                          [\n",
      "                                            -88.006285,\n",
      "                                            41.691827\n",
      "                                          ],\n",
      "                                          [\n",
      "                                            -87.986285,\n",
      "                                            41.691827\n",
      "                                          ],\n",
      "                                          [\n",
      "                                            -87.986285,\n",
      "                                            41.711827\n",
      "                                          ],\n",
      "                                          [\n",
      "                                            -88.006285,\n",
      "                                            41.711827\n",
      "                                          ],\n",
      "                                          [\n",
      "                                            -88.006285,\n",
      "                                            41.691827\n",
      "                                          ]\n",
      "                                        ]\n",
      "                                      ]\n",
      "                                    },\n",
      "                                    \"evenOdd\": {\n",
      "                                      \"constantValue\": true\n",
      "                                    }\n",
      "                                  }\n",
      "                                }\n",
      "                              }\n",
      "                            }\n",
      "                          }\n",
      "                        }\n",
      "                      }\n",
      "                    }\n",
      "                  }\n",
      "                }\n",
      "              }\n",
      "            }\n",
      "          }\n",
      "        }\n",
      "      }\n",
      "    }\n",
      "  }\n",
      "})\n"
     ]
    }
   ],
   "source": [
    "print(ee.ImageCollection(\"SKYSAT/GEN-A/PUBLIC/ORTHO/RGB\")\n",
    "      .filterBounds(aoi).first().bandNames())"
   ]
  },
  {
   "cell_type": "code",
   "execution_count": null,
   "metadata": {},
   "outputs": [],
   "source": [
    "db = (ee.ImageCollection(\"SKYSAT/GEN-A/PUBLIC/ORTHO/RGB\")\n",
    "      .filterBounds(aoi)\n",
    "#       .filterDate(ee.Date(dateMin), ee.Date(dateMax))\n",
    "      .first())\n",
    "db"
   ]
  },
  {
   "cell_type": "code",
   "execution_count": 8,
   "metadata": {},
   "outputs": [],
   "source": [
    "# add the latitude and longitude\n",
    "db = db.addBands(ee.Image.pixelLonLat())\n",
    "\n",
    "# define the bands that I want to use.  R is red, G is green, B is blue\n",
    "# https://developers.google.com/earth-engine/datasets/catalog/COPERNICUS_S2_SR#bands\n",
    "bands = ['R', 'G', 'B']\n",
    "\n",
    "task = ee.batch.Export.image.toDrive(image=db.select(bands[0]),\n",
    "                                    description=bands[0],\n",
    "                                    scale=30,\n",
    "                                    region=aoi,\n",
    "                                    fileNamePrefix=bands[0],\n",
    "                                    crs='EPSG:4326',\n",
    "                                    fileFormat='GeoTIFF')\n",
    "task.start()\n",
    "\n",
    "# url = db.select(bands[0]).getDownloadURL()"
   ]
  },
  {
   "cell_type": "code",
   "execution_count": 9,
   "metadata": {},
   "outputs": [],
   "source": [
    "url = db.select(bands[0]).getDownloadURL({\n",
    "    'scale': 30,\n",
    "    'crs': 'EPSG:4326',\n",
    "    'fileFormat': 'GeoTIFF',\n",
    "    'region': aoi\n",
    "})"
   ]
  },
  {
   "cell_type": "code",
   "execution_count": 82,
   "metadata": {},
   "outputs": [],
   "source": [
    "bandname = ee.String(db.bandNames().get(0))"
   ]
  },
  {
   "cell_type": "code",
   "execution_count": null,
   "metadata": {},
   "outputs": [],
   "source": [
    "# export geotiff images, these go to Drive and then are downloaded locally\n",
    "for selection in bands:\n",
    "    task = ee.batch.Export.image.toDrive(image=db.select(selection),\n",
    "                                 description=selection,\n",
    "                                 scale=30,\n",
    "                                 region=aoi,\n",
    "                                 fileNamePrefix=selection,\n",
    "                                 crs='EPSG:4326',\n",
    "                                 fileFormat='GeoTIFF')\n",
    "    task.start()\n",
    "\n",
    "    url = db.select(selection).getDownloadURL({\n",
    "        'scale': 30,\n",
    "        'crs': 'EPSG:4326',\n",
    "        'fileFormat': 'GeoTIFF',\n",
    "        'region': aoi})\n",
    "\n",
    "    r = requests.get(url, stream=True)\n",
    "\n",
    "    filenameZip = selection+'.zip'\n",
    "    filenameTif = selection+'.tif'\n",
    "\n",
    "    # unzip and write the tif file, then remove the original zip file\n",
    "    with open(filenameZip, \"wb\") as fd:\n",
    "        for chunk in r.iter_content(chunk_size=1024):\n",
    "            fd.write(chunk)\n",
    "\n",
    "    zipdata = zipfile.ZipFile(filenameZip)\n",
    "    zipinfos = zipdata.infolist()\n",
    "\n",
    "    # iterate through each file (there should be only one)\n",
    "    for zipinfo in zipinfos:\n",
    "        zipinfo.filename = filenameTif\n",
    "        zipdata.extract(zipinfo)\n",
    "\n",
    "    zipdata.close()\n",
    "\n",
    "# create a combined RGB geotiff image\n",
    "# https://gis.stackexchange.com/questions/341809/merging-sentinel-2-rgb-bands-with-rasterio\n",
    "print('Creating 3-band GeoTIFF image ... ')\n",
    "\n",
    "# open the images\n",
    "R = rasterio.open('R.tif')\n",
    "G = rasterio.open('G.tif')\n",
    "B = rasterio.open('B.tif')\n",
    "\n",
    "# get the scaling\n",
    "image = np.array([B.read(1), G.read(1), R.read(1)]).transpose(1,2,0)\n",
    "p2, p98 = np.percentile(image, (2,98))\n",
    "\n",
    "# use the B image as a starting point so that I keep the same parameters\n",
    "B_geo = B.profile\n",
    "B_geo.update({'count': 3})\n",
    "\n",
    "with rasterio.open(filename, 'w', **B_geo) as dest:\n",
    "    dest.write( (np.clip(R.read(1), p2, p98) - p2)/(p98 - p2)*255, 1)\n",
    "    dest.write( (np.clip(G.read(1), p2, p98) - p2)/(p98 - p2)*255, 2)\n",
    "    dest.write( (np.clip(B.read(1), p2, p98) - p2)/(p98 - p2)*255, 3)\n",
    "\n",
    "B.close()\n",
    "G.close()\n",
    "R.close()\n",
    "\n",
    "# remove the intermediate files\n",
    "for selection in bands:\n",
    "    os.remove(selection + '.tif')\n",
    "    os.remove(selection + '.zip')"
   ]
  },
  {
   "cell_type": "code",
   "execution_count": 4,
   "metadata": {},
   "outputs": [
    {
     "name": "stdout",
     "output_type": "stream",
     "text": [
      "Downloading Sentinel S2 Surface Reflectance satellite images ... \n"
     ]
    },
    {
     "ename": "EEException",
     "evalue": "Image.addBands: Parameter 'dstImg' is required.",
     "output_type": "error",
     "traceback": [
      "\u001b[0;31m---------------------------------------------------------------------------\u001b[0m",
      "\u001b[0;31mHttpError\u001b[0m                                 Traceback (most recent call last)",
      "File \u001b[0;32m~/anaconda3/envs/geo-gee/lib/python3.9/site-packages/ee/data.py:330\u001b[0m, in \u001b[0;36m_execute_cloud_call\u001b[0;34m(call, num_retries)\u001b[0m\n\u001b[1;32m    329\u001b[0m \u001b[38;5;28;01mtry\u001b[39;00m:\n\u001b[0;32m--> 330\u001b[0m   \u001b[38;5;28;01mreturn\u001b[39;00m \u001b[43mcall\u001b[49m\u001b[38;5;241;43m.\u001b[39;49m\u001b[43mexecute\u001b[49m\u001b[43m(\u001b[49m\u001b[43mnum_retries\u001b[49m\u001b[38;5;241;43m=\u001b[39;49m\u001b[43mnum_retries\u001b[49m\u001b[43m)\u001b[49m\n\u001b[1;32m    331\u001b[0m \u001b[38;5;28;01mexcept\u001b[39;00m googleapiclient\u001b[38;5;241m.\u001b[39merrors\u001b[38;5;241m.\u001b[39mHttpError \u001b[38;5;28;01mas\u001b[39;00m e:\n",
      "File \u001b[0;32m~/anaconda3/envs/geo-gee/lib/python3.9/site-packages/googleapiclient/_helpers.py:134\u001b[0m, in \u001b[0;36mpositional.<locals>.positional_decorator.<locals>.positional_wrapper\u001b[0;34m(*args, **kwargs)\u001b[0m\n\u001b[1;32m    133\u001b[0m         logger\u001b[38;5;241m.\u001b[39mwarning(message)\n\u001b[0;32m--> 134\u001b[0m \u001b[38;5;28;01mreturn\u001b[39;00m \u001b[43mwrapped\u001b[49m\u001b[43m(\u001b[49m\u001b[38;5;241;43m*\u001b[39;49m\u001b[43margs\u001b[49m\u001b[43m,\u001b[49m\u001b[43m \u001b[49m\u001b[38;5;241;43m*\u001b[39;49m\u001b[38;5;241;43m*\u001b[39;49m\u001b[43mkwargs\u001b[49m\u001b[43m)\u001b[49m\n",
      "File \u001b[0;32m~/anaconda3/envs/geo-gee/lib/python3.9/site-packages/googleapiclient/http.py:915\u001b[0m, in \u001b[0;36mHttpRequest.execute\u001b[0;34m(self, http, num_retries)\u001b[0m\n\u001b[1;32m    914\u001b[0m \u001b[38;5;28;01mif\u001b[39;00m resp\u001b[38;5;241m.\u001b[39mstatus \u001b[38;5;241m>\u001b[39m\u001b[38;5;241m=\u001b[39m \u001b[38;5;241m300\u001b[39m:\n\u001b[0;32m--> 915\u001b[0m     \u001b[38;5;28;01mraise\u001b[39;00m HttpError(resp, content, uri\u001b[38;5;241m=\u001b[39m\u001b[38;5;28mself\u001b[39m\u001b[38;5;241m.\u001b[39muri)\n\u001b[1;32m    916\u001b[0m \u001b[38;5;28;01mreturn\u001b[39;00m \u001b[38;5;28mself\u001b[39m\u001b[38;5;241m.\u001b[39mpostproc(resp, content)\n",
      "\u001b[0;31mHttpError\u001b[0m: <HttpError 400 when requesting https://earthengine.googleapis.com/v1alpha/projects/earthengine-legacy/thumbnails?fields=name&alt=json returned \"Image.addBands: Parameter 'dstImg' is required.\". Details: \"Image.addBands: Parameter 'dstImg' is required.\">",
      "\nDuring handling of the above exception, another exception occurred:\n",
      "\u001b[0;31mEEException\u001b[0m                               Traceback (most recent call last)",
      "Input \u001b[0;32mIn [4]\u001b[0m, in \u001b[0;36m<cell line: 3>\u001b[0;34m()\u001b[0m\n\u001b[1;32m      1\u001b[0m \u001b[38;5;66;03m# tower latitude, longitude and approximate size of Sentinel-2 image to retrieve\u001b[39;00m\n\u001b[1;32m      2\u001b[0m sze \u001b[38;5;241m=\u001b[39m \u001b[38;5;241m0.02\u001b[39m\n\u001b[0;32m----> 3\u001b[0m _ \u001b[38;5;241m=\u001b[39m \u001b[43mgetPlanetSkySat\u001b[49m\u001b[43m(\u001b[49m\u001b[43mtower_loc\u001b[49m\u001b[43m[\u001b[49m\u001b[38;5;241;43m1\u001b[39;49m\u001b[43m]\u001b[49m\u001b[43m,\u001b[49m\u001b[43m \u001b[49m\u001b[43mtower_loc\u001b[49m\u001b[43m[\u001b[49m\u001b[38;5;241;43m0\u001b[39;49m\u001b[43m]\u001b[49m\u001b[43m,\u001b[49m\u001b[43m \u001b[49m\u001b[43msze\u001b[49m\u001b[43m,\u001b[49m\u001b[43m \u001b[49m\u001b[38;5;124;43mf\u001b[39;49m\u001b[38;5;124;43m'\u001b[39;49m\u001b[38;5;124;43mATMOSGeoTIFF_SkySat_\u001b[39;49m\u001b[38;5;132;43;01m{\u001b[39;49;00m\u001b[43msze\u001b[49m\u001b[38;5;132;43;01m}\u001b[39;49;00m\u001b[38;5;124;43m.tif\u001b[39;49m\u001b[38;5;124;43m'\u001b[39;49m\u001b[43m)\u001b[49m\n",
      "File \u001b[0;32m~/data/atmos-flux-data/EarthEngineToGeoTIFF.py:66\u001b[0m, in \u001b[0;36mgetPlanetSkySat\u001b[0;34m(lon, lat, sze, filename, dateMin, dateMax, vmin, vmax)\u001b[0m\n\u001b[1;32m     57\u001b[0m task \u001b[38;5;241m=\u001b[39m ee\u001b[38;5;241m.\u001b[39mbatch\u001b[38;5;241m.\u001b[39mExport\u001b[38;5;241m.\u001b[39mimage\u001b[38;5;241m.\u001b[39mtoDrive(image\u001b[38;5;241m=\u001b[39mdb\u001b[38;5;241m.\u001b[39mselect(selection),\n\u001b[1;32m     58\u001b[0m                              description\u001b[38;5;241m=\u001b[39mselection,\n\u001b[1;32m     59\u001b[0m                              scale\u001b[38;5;241m=\u001b[39m\u001b[38;5;241m30\u001b[39m,\n\u001b[0;32m   (...)\u001b[0m\n\u001b[1;32m     62\u001b[0m                              crs\u001b[38;5;241m=\u001b[39m\u001b[38;5;124m'\u001b[39m\u001b[38;5;124mEPSG:4326\u001b[39m\u001b[38;5;124m'\u001b[39m,\n\u001b[1;32m     63\u001b[0m                              fileFormat\u001b[38;5;241m=\u001b[39m\u001b[38;5;124m'\u001b[39m\u001b[38;5;124mGeoTIFF\u001b[39m\u001b[38;5;124m'\u001b[39m)\n\u001b[1;32m     64\u001b[0m task\u001b[38;5;241m.\u001b[39mstart()\n\u001b[0;32m---> 66\u001b[0m url \u001b[38;5;241m=\u001b[39m \u001b[43mdb\u001b[49m\u001b[38;5;241;43m.\u001b[39;49m\u001b[43mselect\u001b[49m\u001b[43m(\u001b[49m\u001b[43mselection\u001b[49m\u001b[43m)\u001b[49m\u001b[38;5;241;43m.\u001b[39;49m\u001b[43mgetDownloadURL\u001b[49m\u001b[43m(\u001b[49m\u001b[43m{\u001b[49m\n\u001b[1;32m     67\u001b[0m \u001b[43m    \u001b[49m\u001b[38;5;124;43m'\u001b[39;49m\u001b[38;5;124;43mscale\u001b[39;49m\u001b[38;5;124;43m'\u001b[39;49m\u001b[43m:\u001b[49m\u001b[43m \u001b[49m\u001b[38;5;241;43m30\u001b[39;49m\u001b[43m,\u001b[49m\n\u001b[1;32m     68\u001b[0m \u001b[43m    \u001b[49m\u001b[38;5;124;43m'\u001b[39;49m\u001b[38;5;124;43mcrs\u001b[39;49m\u001b[38;5;124;43m'\u001b[39;49m\u001b[43m:\u001b[49m\u001b[43m \u001b[49m\u001b[38;5;124;43m'\u001b[39;49m\u001b[38;5;124;43mEPSG:4326\u001b[39;49m\u001b[38;5;124;43m'\u001b[39;49m\u001b[43m,\u001b[49m\n\u001b[1;32m     69\u001b[0m \u001b[43m    \u001b[49m\u001b[38;5;124;43m'\u001b[39;49m\u001b[38;5;124;43mfileFormat\u001b[39;49m\u001b[38;5;124;43m'\u001b[39;49m\u001b[43m:\u001b[49m\u001b[43m \u001b[49m\u001b[38;5;124;43m'\u001b[39;49m\u001b[38;5;124;43mGeoTIFF\u001b[39;49m\u001b[38;5;124;43m'\u001b[39;49m\u001b[43m,\u001b[49m\n\u001b[1;32m     70\u001b[0m \u001b[43m    \u001b[49m\u001b[38;5;124;43m'\u001b[39;49m\u001b[38;5;124;43mregion\u001b[39;49m\u001b[38;5;124;43m'\u001b[39;49m\u001b[43m:\u001b[49m\u001b[43m \u001b[49m\u001b[43maoi\u001b[49m\u001b[43m}\u001b[49m\u001b[43m)\u001b[49m\n\u001b[1;32m     72\u001b[0m r \u001b[38;5;241m=\u001b[39m requests\u001b[38;5;241m.\u001b[39mget(url, stream\u001b[38;5;241m=\u001b[39m\u001b[38;5;28;01mTrue\u001b[39;00m)\n\u001b[1;32m     74\u001b[0m filenameZip \u001b[38;5;241m=\u001b[39m selection\u001b[38;5;241m+\u001b[39m\u001b[38;5;124m'\u001b[39m\u001b[38;5;124m.zip\u001b[39m\u001b[38;5;124m'\u001b[39m\n",
      "File \u001b[0;32m~/anaconda3/envs/geo-gee/lib/python3.9/site-packages/ee/image.py:469\u001b[0m, in \u001b[0;36mImage.getDownloadURL\u001b[0;34m(self, params)\u001b[0m\n\u001b[1;32m    467\u001b[0m request \u001b[38;5;241m=\u001b[39m params \u001b[38;5;129;01mor\u001b[39;00m {}\n\u001b[1;32m    468\u001b[0m request[\u001b[38;5;124m'\u001b[39m\u001b[38;5;124mimage\u001b[39m\u001b[38;5;124m'\u001b[39m] \u001b[38;5;241m=\u001b[39m \u001b[38;5;28mself\u001b[39m\n\u001b[0;32m--> 469\u001b[0m \u001b[38;5;28;01mreturn\u001b[39;00m data\u001b[38;5;241m.\u001b[39mmakeDownloadUrl(\u001b[43mdata\u001b[49m\u001b[38;5;241;43m.\u001b[39;49m\u001b[43mgetDownloadId\u001b[49m\u001b[43m(\u001b[49m\u001b[43mrequest\u001b[49m\u001b[43m)\u001b[49m)\n",
      "File \u001b[0;32m~/anaconda3/envs/geo-gee/lib/python3.9/site-packages/ee/data.py:966\u001b[0m, in \u001b[0;36mgetDownloadId\u001b[0;34m(params)\u001b[0m\n\u001b[1;32m    963\u001b[0m \u001b[38;5;28;01mif\u001b[39;00m bands:\n\u001b[1;32m    964\u001b[0m   request[\u001b[38;5;124m'\u001b[39m\u001b[38;5;124mbandIds\u001b[39m\u001b[38;5;124m'\u001b[39m] \u001b[38;5;241m=\u001b[39m _cloud_api_utils\u001b[38;5;241m.\u001b[39mconvert_to_band_list(\n\u001b[1;32m    965\u001b[0m       [band[\u001b[38;5;124m'\u001b[39m\u001b[38;5;124mid\u001b[39m\u001b[38;5;124m'\u001b[39m] \u001b[38;5;28;01mfor\u001b[39;00m band \u001b[38;5;129;01min\u001b[39;00m bands])\n\u001b[0;32m--> 966\u001b[0m result \u001b[38;5;241m=\u001b[39m \u001b[43m_execute_cloud_call\u001b[49m\u001b[43m(\u001b[49m\n\u001b[1;32m    967\u001b[0m \u001b[43m    \u001b[49m\u001b[43m_get_cloud_api_resource\u001b[49m\u001b[43m(\u001b[49m\u001b[43m)\u001b[49m\u001b[38;5;241;43m.\u001b[39;49m\u001b[43mprojects\u001b[49m\u001b[43m(\u001b[49m\u001b[43m)\u001b[49m\u001b[38;5;241;43m.\u001b[39;49m\u001b[43mthumbnails\u001b[49m\u001b[43m(\u001b[49m\u001b[43m)\u001b[49m\u001b[38;5;241;43m.\u001b[39;49m\u001b[43mcreate\u001b[49m\u001b[43m(\u001b[49m\n\u001b[1;32m    968\u001b[0m \u001b[43m        \u001b[49m\u001b[43mparent\u001b[49m\u001b[38;5;241;43m=\u001b[39;49m\u001b[43m_get_projects_path\u001b[49m\u001b[43m(\u001b[49m\u001b[43m)\u001b[49m\u001b[43m,\u001b[49m\u001b[43m \u001b[49m\u001b[43mfields\u001b[49m\u001b[38;5;241;43m=\u001b[39;49m\u001b[38;5;124;43m'\u001b[39;49m\u001b[38;5;124;43mname\u001b[39;49m\u001b[38;5;124;43m'\u001b[39;49m\u001b[43m,\u001b[49m\u001b[43m \u001b[49m\u001b[43mbody\u001b[49m\u001b[38;5;241;43m=\u001b[39;49m\u001b[43mrequest\u001b[49m\u001b[43m)\u001b[49m\u001b[43m)\u001b[49m\n\u001b[1;32m    969\u001b[0m \u001b[38;5;28;01mreturn\u001b[39;00m {\u001b[38;5;124m'\u001b[39m\u001b[38;5;124mdocid\u001b[39m\u001b[38;5;124m'\u001b[39m: result[\u001b[38;5;124m'\u001b[39m\u001b[38;5;124mname\u001b[39m\u001b[38;5;124m'\u001b[39m], \u001b[38;5;124m'\u001b[39m\u001b[38;5;124mtoken\u001b[39m\u001b[38;5;124m'\u001b[39m: \u001b[38;5;124m'\u001b[39m\u001b[38;5;124m'\u001b[39m}\n",
      "File \u001b[0;32m~/anaconda3/envs/geo-gee/lib/python3.9/site-packages/ee/data.py:332\u001b[0m, in \u001b[0;36m_execute_cloud_call\u001b[0;34m(call, num_retries)\u001b[0m\n\u001b[1;32m    330\u001b[0m   \u001b[38;5;28;01mreturn\u001b[39;00m call\u001b[38;5;241m.\u001b[39mexecute(num_retries\u001b[38;5;241m=\u001b[39mnum_retries)\n\u001b[1;32m    331\u001b[0m \u001b[38;5;28;01mexcept\u001b[39;00m googleapiclient\u001b[38;5;241m.\u001b[39merrors\u001b[38;5;241m.\u001b[39mHttpError \u001b[38;5;28;01mas\u001b[39;00m e:\n\u001b[0;32m--> 332\u001b[0m   \u001b[38;5;28;01mraise\u001b[39;00m _translate_cloud_exception(e)\n",
      "\u001b[0;31mEEException\u001b[0m: Image.addBands: Parameter 'dstImg' is required."
     ]
    }
   ],
   "source": [
    "# tower latitude, longitude and approximate size of Sentinel-2 image to retrieve\n",
    "sze = 0.02\n",
    "_ = getPlanetSkySat(tower_loc[1], tower_loc[0], sze, f'ATMOSGeoTIFF_SkySat_{sze}.tif')"
   ]
  },
  {
   "cell_type": "code",
   "execution_count": 5,
   "metadata": {},
   "outputs": [
    {
     "name": "stdout",
     "output_type": "stream",
     "text": [
      "Downloading Sentinel S2 Surface Reflectance satellite images ... \n",
      "Creating 3-band GeoTIFF image ... \n"
     ]
    }
   ],
   "source": [
    "# tower latitude, longitude and approximate size of Sentinel-2 image to retrieve\n",
    "sze = 0.02\n",
    "_ = getSentinalS2SRImage(tower_loc[1], tower_loc[0], sze, f'ATMOSGeoTIFF_Sentinel2{sze}.tif')"
   ]
  },
  {
   "cell_type": "code",
   "execution_count": 6,
   "metadata": {},
   "outputs": [
    {
     "data": {
      "image/png": "[encoded data removed]",
      "text/plain": [
       "<Figure size 1080x1080 with 1 Axes>"
      ]
     },
     "metadata": {
      "needs_background": "light"
     },
     "output_type": "display_data"
    }
   ],
   "source": [
    "f,ax = plt.subplots(figsize=(15,15))\n",
    "\n",
    "ATMOS = rasterio.open('ATMOSGeoTIFF_Sentinel20.02.tif')\n",
    "showRasterio(ATMOS.read(), ax = ax, transform=ATMOS.transform)\n",
    "\n",
    "ATMOS.close()"
   ]
  }
 ],
 "metadata": {
  "kernelspec": {
   "display_name": "Python 3 (ipykernel)",
   "language": "python",
   "name": "python3"
  },
  "language_info": {
   "codemirror_mode": {
    "name": "ipython",
    "version": 3
   },
   "file_extension": ".py",
   "mimetype": "text/x-python",
   "name": "python",
   "nbconvert_exporter": "python",
   "pygments_lexer": "ipython3",
   "version": "3.9.12"
  }
 },
 "nbformat": 4,
 "nbformat_minor": 4
}
